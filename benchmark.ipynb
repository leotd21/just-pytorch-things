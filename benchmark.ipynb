{
  "cells": [
    {
      "cell_type": "markdown",
      "metadata": {
        "id": "1bu-9M1FT-Hp",
        "tags": []
      },
      "source": [
        "# Introduction to image classification using camera trap images"
      ]
    },
    {
      "cell_type": "markdown",
      "metadata": {
        "id": "yO6cPUuIT-Hr"
      },
      "source": [
        "Camera traps are a tool used by conservationists to study and monitor a wide range of ecologies while limiting human interference. However, they also generate a vast amount of data that quickly exceeds the capacity of humans to sift through. That's where machine learning can help! Advances in computer vision can help automate tasks like species detection and identification, so that humans can spend more time learning from and protecting these ecologies.\n",
        "\n",
        "This post walks through an initial approach for the [Conservision Practice Area](https://www.drivendata.org/competitions/87/competition-image-classification-wildlife-conservation/) challenge on DrivenData, a practice competition where you identify animal species in a real world dataset of wildlife images from [Tai National Park](https://en.wikipedia.org/wiki/Ta%C3%AF_National_Park) in Côte d'Ivoire. This is a practice competition designed to be accessible to participants at all levels. That makes it a great place to dive into the world of data science competitions and computer vision.\n",
        "\n",
        "![camera trap images](https://drivendata-public-assets.s3.amazonaws.com/conservision-leopard-collage.jpg)\n",
        "\n",
        "We will go through the following steps in order to train a PyTorch model that can be used to identify the species of animal in a given image:\n",
        "1. Set up your environment (feel free to skip)\n",
        "2. Download the data\n",
        "3. Explore the data\n",
        "4. Split into train and evaluation sets\n",
        "5. Build the Model\n",
        "6. Training\n",
        "7. Evaluation\n",
        "8. Create submission\n",
        "\n",
        "The only pre-requisite is a basic familiarity with Python and some of the basic concepts behind deep learning. We'll guide you step-by-step through the rest.\n",
        "\n",
        "Let's get started!"
      ]
    },
    {
      "cell_type": "markdown",
      "metadata": {
        "id": "fUO98XktT-Hs"
      },
      "source": [
        "## 1. Set up your environment\n",
        "Feel free to skip this step if you already have an environment set up.\n",
        "\n",
        "The folks on our team typically use conda to manage environments. Once you have [conda installed](https://docs.conda.io/projects/conda/en/latest/user-guide/install/index.html) you can create a new \"conserviz\" environment (name it whatever you like) with:\n",
        "```\n",
        "conda create -n conserviz python=3.8\n",
        "```\n",
        "\n",
        "Then we activate the new environment and install the required libraries with pip. The pip command below includes all the libraries we'll need for this notebook. Launch a jupyter notebook from this new environment.\n",
        "```\n",
        "conda activate conserviz\n",
        "pip install pandas matplotlib Pillow tqdm scikit-learn torch torchvision\n",
        "```\n",
        "\n"
      ]
    },
    {
      "cell_type": "markdown",
      "metadata": {
        "id": "bttFfAJsT-Ht",
        "tags": []
      },
      "source": [
        "## 2. Download the data\n",
        "Download the competition data from the [Data Download](https://www.drivendata.org/competitions/87/competition-image-classification-wildlife-conservation/data/) page. You'll need to first register for the competition by clicking on \"Compete\" and agreeing to the rules.\n",
        "\n",
        "The `competition.zip` file contains everything you need to take part in this competition, including this notebook `benchmark.ipynb`. Unzip the archive into a location of your choice. The file structure should look like this:\n",
        "```\n",
        "├── benchmark.ipynb\n",
        "├── submission_format.csv\n",
        "├── test_features\n",
        "│   ├── ZJ000000.jpg\n",
        "│   ├── ZJ000001.jpg\n",
        "│   └── ...\n",
        "├── test_features.csv\n",
        "├── train_features\n",
        "│   ├── ZJ016488.jpg\n",
        "│   ├── ZJ016489.jpg\n",
        "│   └── ...\n",
        "├── train_features.csv\n",
        "└── train_labels.csv\n",
        "```"
      ]
    },
    {
      "cell_type": "markdown",
      "metadata": {
        "id": "zNS7YG-VT-Hu"
      },
      "source": [
        "Next, let's import some of the usual suspects:"
      ]
    },
    {
      "cell_type": "code",
      "execution_count": null,
      "metadata": {
        "colab": {
          "base_uri": "https://localhost:8080/"
        },
        "id": "URkYvPcwXFNu",
        "outputId": "e8d7614b-cab5-4783-8d16-04462567924c"
      },
      "outputs": [],
      "source": [
        "! ls -lah"
      ]
    },
    {
      "cell_type": "code",
      "execution_count": null,
      "metadata": {
        "colab": {
          "base_uri": "https://localhost:8080/"
        },
        "collapsed": true,
        "id": "rRRzHr8NYKj2",
        "outputId": "6ca5d6f8-5deb-4834-bdfd-679f44c4b440"
      },
      "outputs": [],
      "source": [
        "!unzip competition_VfIpjyh.zip"
      ]
    },
    {
      "cell_type": "code",
      "execution_count": null,
      "metadata": {
        "id": "LTz4AFANT-Hv"
      },
      "outputs": [],
      "source": [
        "%matplotlib inline\n",
        "\n",
        "import matplotlib.pyplot as plt\n",
        "import pandas as pd\n",
        "from PIL import Image\n",
        "from tqdm import tqdm"
      ]
    },
    {
      "cell_type": "markdown",
      "metadata": {
        "id": "GKmDXU5dT-Hw"
      },
      "source": [
        "Read in the train and test CSVs first and see what they look like."
      ]
    },
    {
      "cell_type": "code",
      "execution_count": null,
      "metadata": {
        "id": "8HWDcxEVT-Hw"
      },
      "outputs": [],
      "source": [
        "train_features = pd.read_csv(\"train_features.csv\", index_col=\"id\")\n",
        "test_features = pd.read_csv(\"test_features.csv\", index_col=\"id\")\n",
        "train_labels = pd.read_csv(\"train_labels.csv\", index_col=\"id\")"
      ]
    },
    {
      "cell_type": "markdown",
      "metadata": {
        "id": "qe2-Y7SvT-Hx"
      },
      "source": [
        "The `features` CSVs contain the image ID, filepath and site ID for each image."
      ]
    },
    {
      "cell_type": "code",
      "execution_count": null,
      "metadata": {
        "colab": {
          "base_uri": "https://localhost:8080/",
          "height": 238
        },
        "id": "VIC35YlAT-Hx",
        "outputId": "c03c9979-cb55-4882-f3e1-6283288c67c7"
      },
      "outputs": [],
      "source": [
        "train_features.head()"
      ]
    },
    {
      "cell_type": "code",
      "execution_count": null,
      "metadata": {
        "colab": {
          "base_uri": "https://localhost:8080/",
          "height": 238
        },
        "id": "cfTY8tmtT-Hy",
        "outputId": "0da8cb44-6f4c-498b-a8d6-24c6a875fb31"
      },
      "outputs": [],
      "source": [
        "test_features.head()"
      ]
    },
    {
      "cell_type": "markdown",
      "metadata": {
        "id": "hiczpTu-T-Hz"
      },
      "source": [
        "The `train_labels` CSV is an indicator matrix of the species identified in each of the training images. Some images are labeled as \"blank\" if no animal was detected."
      ]
    },
    {
      "cell_type": "code",
      "execution_count": null,
      "metadata": {
        "colab": {
          "base_uri": "https://localhost:8080/",
          "height": 258
        },
        "id": "W1OsxHHST-Hz",
        "outputId": "67c5cd85-f458-4453-c9ac-185decd65df5"
      },
      "outputs": [],
      "source": [
        "train_labels.head()"
      ]
    },
    {
      "cell_type": "markdown",
      "metadata": {
        "id": "0hFqV4Y2T-Hz"
      },
      "source": [
        "Let's store a sorted list of the labels, so that we can sort the inputs and outputs to our model in a consistent way."
      ]
    },
    {
      "cell_type": "code",
      "execution_count": null,
      "metadata": {
        "colab": {
          "base_uri": "https://localhost:8080/"
        },
        "id": "_1VKCwXWT-Hz",
        "outputId": "dc38825e-b7e8-4a78-8cbe-e33c056b18e8"
      },
      "outputs": [],
      "source": [
        "species_labels = sorted(train_labels.columns.unique())\n",
        "species_labels"
      ]
    },
    {
      "cell_type": "markdown",
      "metadata": {
        "id": "c_6omgD-T-Hz"
      },
      "source": [
        "## 3. Explore the data"
      ]
    },
    {
      "cell_type": "markdown",
      "metadata": {
        "id": "dvXdJZ5fT-H0"
      },
      "source": [
        "Now let's see what some of the actual images look like. The code below iterates through a list of species and selects a single random image from each species to display, along with its image ID and label. You can try changing the `random_state` variable to display a new set of images."
      ]
    },
    {
      "cell_type": "code",
      "execution_count": null,
      "metadata": {
        "colab": {
          "base_uri": "https://localhost:8080/",
          "height": 681
        },
        "id": "uj42oQJ9T-H0",
        "outputId": "c1ae22ff-f74b-4b9e-99c8-e241c864933e",
        "tags": []
      },
      "outputs": [],
      "source": [
        "import matplotlib.image as mpimg\n",
        "\n",
        "random_state = 42\n",
        "\n",
        "# we'll create a grid with 8 positions, one for each label (7 species, plus blanks)\n",
        "fig, axes = plt.subplots(nrows=4, ncols=2, figsize=(20, 20))\n",
        "\n",
        "# iterate through each species\n",
        "for species, ax in zip(species_labels, axes.flat):\n",
        "    # get an image ID for this species\n",
        "    img_id = (\n",
        "        train_labels[train_labels.loc[:,species] == 1]\n",
        "        .sample(1, random_state=random_state)\n",
        "        .index[0]\n",
        "    )\n",
        "    # reads the filepath and returns a numpy array\n",
        "    img = mpimg.imread(train_features.loc[img_id].filepath)\n",
        "    # plot etc\n",
        "    ax.imshow(img)\n",
        "    ax.set_title(f\"{img_id} | {species}\")"
      ]
    },
    {
      "cell_type": "markdown",
      "metadata": {
        "id": "17jL4wz-T-H0"
      },
      "source": [
        "Can you spot the animals? I'm still not sure where the rodent is. Birds can be tough to spot too."
      ]
    },
    {
      "cell_type": "markdown",
      "metadata": {
        "id": "acOye9BJT-H0"
      },
      "source": [
        "Let's look at the distribution of species across the training set, first in terms of overall counts and then in percentage terms."
      ]
    },
    {
      "cell_type": "code",
      "execution_count": null,
      "metadata": {
        "colab": {
          "base_uri": "https://localhost:8080/",
          "height": 335
        },
        "id": "ID4IzKWsT-H0",
        "outputId": "6379959f-8c44-44e0-9936-a29529c83fcf"
      },
      "outputs": [],
      "source": [
        "train_labels.sum().sort_values(ascending=False)"
      ]
    },
    {
      "cell_type": "code",
      "execution_count": null,
      "metadata": {
        "colab": {
          "base_uri": "https://localhost:8080/",
          "height": 335
        },
        "id": "-FMm0IflT-H1",
        "outputId": "58adc85f-f870-4f96-cb4c-3cba0b9b2741"
      },
      "outputs": [],
      "source": [
        "train_labels.sum().divide(train_labels.shape[0]).sort_values(ascending=False)"
      ]
    },
    {
      "cell_type": "markdown",
      "metadata": {
        "id": "f-vkeYrhT-H2"
      },
      "source": [
        "In case you're curious, this distribution is not exactly what we find in the wild. The competition dataset has been curated a little bit to produce a more uniform distribution than we would see in the actual data.\n",
        "\n",
        "There's a lot more data exploration to do. For example, you might also want to look at the distribution of image dimensions or camera trap sites. But since our primary goal here is to develop a benchmark, let's move on to the modeling!"
      ]
    },
    {
      "cell_type": "markdown",
      "metadata": {
        "id": "ifwHrNhXT-H2"
      },
      "source": [
        "## 4. Split into train and evaluation sets\n",
        "First, we'll need to split the images into train and eval sets. We'll put aside 25% of the data for evaluation and stratify by the target labels to ensure we have similar relative frequencies of each class in the train and eval sets."
      ]
    },
    {
      "cell_type": "markdown",
      "metadata": {
        "id": "tNDS4ulDT-H2"
      },
      "source": [
        "For the purposes of this benchmark, we're also going to limit ourselves to a 50% subset of the training data, just so that things run faster. But feel free to adjust `frac` or remove it entirely if you want to run the training on the full set."
      ]
    },
    {
      "cell_type": "code",
      "execution_count": null,
      "metadata": {
        "id": "VR8Y4MHET-H2"
      },
      "outputs": [],
      "source": [
        "from sklearn.model_selection import train_test_split\n",
        "\n",
        "frac = 1.0\n",
        "\n",
        "y = train_labels.sample(frac=frac, random_state=1)\n",
        "x = train_features.loc[y.index].filepath.to_frame()\n",
        "\n",
        "# note that we are casting the species labels to an indicator/dummy matrix\n",
        "x_train, x_eval, y_train, y_eval = train_test_split(\n",
        "    x, y, stratify=y, test_size=0.2\n",
        ")"
      ]
    },
    {
      "cell_type": "markdown",
      "metadata": {
        "id": "Q8zeHiOoT-H2"
      },
      "source": [
        "Here's what `x_train` and `y_train` look like now:"
      ]
    },
    {
      "cell_type": "code",
      "execution_count": null,
      "metadata": {
        "colab": {
          "base_uri": "https://localhost:8080/",
          "height": 238
        },
        "id": "9CzLCfn8T-H2",
        "outputId": "942e4f87-a639-48ee-9e6a-11856a928a7d"
      },
      "outputs": [],
      "source": [
        "x_train.head()"
      ]
    },
    {
      "cell_type": "code",
      "execution_count": null,
      "metadata": {
        "colab": {
          "base_uri": "https://localhost:8080/",
          "height": 258
        },
        "id": "6q7XvzXRT-H3",
        "outputId": "0902e148-a386-422d-d70c-563105e5f5c0"
      },
      "outputs": [],
      "source": [
        "y_train.head()"
      ]
    },
    {
      "cell_type": "code",
      "execution_count": null,
      "metadata": {
        "colab": {
          "base_uri": "https://localhost:8080/"
        },
        "id": "SWVnHjwVT-H3",
        "outputId": "1e1d97f0-cd38-425a-f35a-9168dd821004"
      },
      "outputs": [],
      "source": [
        "x_train.shape, y_train.shape, x_eval.shape, y_eval.shape"
      ]
    },
    {
      "cell_type": "markdown",
      "metadata": {
        "id": "B7BtKWa4T-H3"
      },
      "source": [
        "Next, let's validate that our split has resulted in roughly similar relative distributions of species across the train and eval sets (because of how we passed `stratify=y` above)."
      ]
    },
    {
      "cell_type": "code",
      "execution_count": null,
      "metadata": {
        "colab": {
          "base_uri": "https://localhost:8080/",
          "height": 318
        },
        "id": "uRNcHxGeT-H3",
        "outputId": "91f6dd77-3a59-4eec-f109-e45f352b0a58"
      },
      "outputs": [],
      "source": [
        "split_pcts = pd.DataFrame(\n",
        "    {\n",
        "        \"train\": y_train.idxmax(axis=1).value_counts(normalize=True),\n",
        "        \"eval\": y_eval.idxmax(axis=1).value_counts(normalize=True),\n",
        "    }\n",
        ")\n",
        "print(\"Species percentages by split\")\n",
        "(split_pcts.fillna(0) * 100).astype(int)"
      ]
    },
    {
      "cell_type": "markdown",
      "metadata": {
        "id": "hL_DOYHeT-H3"
      },
      "source": [
        "Good, this looks as expected."
      ]
    },
    {
      "cell_type": "markdown",
      "metadata": {
        "id": "S_MCcXLsT-H4"
      },
      "source": [
        "## 5. Build the Model"
      ]
    },
    {
      "cell_type": "markdown",
      "metadata": {
        "id": "EbuKWaPcT-H4"
      },
      "source": [
        "Now we can start building our model."
      ]
    },
    {
      "cell_type": "markdown",
      "metadata": {
        "id": "Phq37O3_T-H4"
      },
      "source": [
        "### The Dataset\n",
        "\n",
        "First, we'll create an `ImagesDataset` class that will define how we access our data and any transformations we might want to apply.\n",
        "\n",
        "This new class will inherit from the PyTorch [`Dataset`](https://pytorch.org/tutorials/beginner/basics/data_tutorial.html) class, but we'll also need to define our own `__init__`, `__len__` and `__getitem__` **special methods**:\n",
        "* **`__init__`** will instantiate the dataset object with two dataframes: an `x_train` df containing image IDs and image file paths, and a `y_train` df containing image IDs and labels. This will run once when we first create the dataset object, e.g. with `dataset = ImagesDataset(x_train, y_train)`.\n",
        "* **`__getitem__`** will define how we access a sample from the data. This method gets called whenever we use an indexing operation like `dataset[index]`. In this case, whenever accessing a particular image sample (for example, to get the first image we'd do `dataset[0]`) the following will happen:\n",
        "  * look up the image filepath using the index\n",
        "  * load the image with [`PIL.Image`](https://pillow.readthedocs.io/en/stable/reference/Image.html)\n",
        "  * apply some transformations (more on this below)\n",
        "  * return a dictionary containing the image ID, the image itself as a Tensor, and a label (if it exists)\n",
        "* **`__len__`** simply returns the size of the dataset, which we do by calling `len` on the input dataframe."
      ]
    },
    {
      "cell_type": "code",
      "execution_count": null,
      "metadata": {
        "id": "8n_NM5VPT-H6",
        "tags": []
      },
      "outputs": [],
      "source": [
        "import torch\n",
        "from torch.utils.data import Dataset\n",
        "from torchvision import transforms\n",
        "\n",
        "\n",
        "class ImagesDataset(Dataset):\n",
        "    \"\"\"Reads in an image, transforms pixel values, and serves\n",
        "    a dictionary containing the image id, image tensors, and label.\n",
        "    \"\"\"\n",
        "\n",
        "    def __init__(self, x_df, y_df=None):\n",
        "        self.data = x_df\n",
        "        self.label = y_df\n",
        "        self.transform = transforms.Compose(\n",
        "            [\n",
        "                transforms.Resize((224, 224)),\n",
        "                transforms.ToTensor(),\n",
        "                transforms.Normalize(\n",
        "                    mean=(0.485, 0.456, 0.406), std=(0.229, 0.224, 0.225)\n",
        "                ),\n",
        "            ]\n",
        "        )\n",
        "\n",
        "    def __getitem__(self, index):\n",
        "        image = Image.open(self.data.iloc[index][\"filepath\"]).convert(\"RGB\")\n",
        "        image = self.transform(image)\n",
        "        image_id = self.data.index[index]\n",
        "        # if we don't have labels (e.g. for test set) just return the image and image id\n",
        "        if self.label is None:\n",
        "            sample = {\"image_id\": image_id, \"image\": image}\n",
        "        else:\n",
        "            label = torch.tensor(self.label.iloc[index].values,\n",
        "                                 dtype=torch.float)\n",
        "            sample = {\"image_id\": image_id, \"image\": image, \"label\": label}\n",
        "        return sample\n",
        "\n",
        "    def __len__(self):\n",
        "        return len(self.data)"
      ]
    },
    {
      "cell_type": "markdown",
      "metadata": {
        "id": "M-7bJ1XhT-H6"
      },
      "source": [
        "Notice that we are also defining a set of **transformations**, which are defined in the `__init__` and called in the `__getitem__` special methods. These are applied to each image before returning it. Here's what each of those transformations do and why:\n",
        "\n",
        "* `transforms.Resize((224, 224))` ResNet50 was trained on images of size 224x224 so we resize to the same dimensions here. See [pytorch docs](https://pytorch.org/vision/stable/models.html) and the [ResNet paper](https://arxiv.org/pdf/1512.03385.pdf).\n",
        "* `transforms.ToTensor()` converts the image to a tensor. Since we are passing in a PIL Image at this point, PyTorch can recognize it as an RGB image and will automatically convert the input values which are in the range [0, 255] to a range of [0, 1]. See more from the [PyTorch docs](https://pytorch.org/vision/main/generated/torchvision.transforms.ToTensor.html).\n",
        "* `transforms.Normalize(...)` normalizes the image tensors using the mean and standard deviation of ImageNet images. Because this transformation was applied to images when training the ResNet model, we want to do the same here with our images. See more from the [PyTorch docs on pretrained models](https://pytorch.org/vision/stable/models.html)."
      ]
    },
    {
      "cell_type": "markdown",
      "metadata": {
        "id": "6BfHYtnHT-H6",
        "tags": []
      },
      "source": [
        "### The DataLoader\n",
        "Next, we need to load the dataset into a dataloader. The `DataLoader` class lets us iterate through our dataset in batches."
      ]
    },
    {
      "cell_type": "code",
      "execution_count": null,
      "metadata": {
        "id": "PQ4x9f-HT-H7"
      },
      "outputs": [],
      "source": [
        "from torch.utils.data import DataLoader\n",
        "\n",
        "train_dataset = ImagesDataset(x_train, y_train)\n",
        "train_dataloader = DataLoader(train_dataset, batch_size=32)\n",
        "\n",
        "eval_dataset = ImagesDataset(x_eval, y_eval)\n",
        "eval_dataloader = DataLoader(eval_dataset, batch_size=32)"
      ]
    },
    {
      "cell_type": "markdown",
      "metadata": {
        "id": "3Dan-0mNT-H7"
      },
      "source": [
        "The data pieces are now largely in place!"
      ]
    },
    {
      "cell_type": "markdown",
      "metadata": {
        "id": "_v4hBulVT-H7",
        "tags": []
      },
      "source": [
        "## 6. Training\n",
        "Now it's time to start building our model and then training it.\n",
        "\n",
        "We'll use a pretrained ResNet50 model as our backbone. ResNets are one of the more popular networks for image classification tasks. The pretrained model outputs a 2048-dimension embedding, which we will then connect to two more dense layers, with a ReLU and Dropout step in between.\n",
        "\n",
        "These final layers, defined in `model.fc`, are the new \"head\" of our model, and allow us to transform the image embeddings produced by the pretrained \"backbone\" into the 8-dimensional output required to learn the species classification task we're tackling here. Prior to redefining it below, `model.fc` would be the final, dense layer connecting the 2048-dimension embedding to a 1000-dimension output (corresponding to the 1000 ImageNet classes that the pretrained model was trained on). We will instead prepare the model for the current task by redefining `model.fc` to produce an 8-dimensional output corresponding to our 8 species classes (including blanks).\n",
        "\n",
        "We'll also add a couple more layers in between. The `ReLU` layer introduces non-linearity into the model head, in effect activating important features and suppressing noise. And the `Dropout` layer is a commonly used regularization component that randomly drops some nodes from the previous layer's outputs (10% of nodes in this case) during each training step, mitigating our risk of overfitting."
      ]
    },
    {
      "cell_type": "code",
      "execution_count": null,
      "metadata": {
        "id": "XZceBGqWT-H7"
      },
      "outputs": [],
      "source": [
        "from torch import nn\n",
        "import torchvision.models as models\n",
        "\n",
        "\n",
        "model = models.resnet50(pretrained=True)\n",
        "\n",
        "# Freeze the models weights\n",
        "for params in model.parameters():\n",
        "    params.requires_grad = False\n",
        "\n",
        "# print(model)\n",
        "\n",
        "model.fc = nn.Sequential(\n",
        "    nn.Linear(2048, 100),  # dense layer takes a 2048-dim input and outputs 100-dim\n",
        "    nn.ReLU(inplace=True),  # ReLU activation introduces non-linearity\n",
        "    nn.Dropout(0.1),  # common technique to mitigate overfitting\n",
        "    nn.Linear(\n",
        "        100, 8\n",
        "    ),  # final dense layer outputs 8-dim corresponding to our target classes\n",
        ")"
      ]
    },
    {
      "cell_type": "markdown",
      "metadata": {
        "id": "GSFP4S7sT-H8"
      },
      "source": [
        "### Define our loss function\n",
        "Cross entropy loss (or log loss) is a commonly used loss function for multi-class (not multi-label) image classification. We'll use this to compute loss for each training batch and then update our parameters accordingly."
      ]
    },
    {
      "cell_type": "code",
      "execution_count": null,
      "metadata": {
        "id": "izIvY96ST-H8"
      },
      "outputs": [],
      "source": [
        "import torch.optim as optim\n",
        "\n",
        "criterion = nn.CrossEntropyLoss()\n",
        "optimizer = optim.Adam(model.parameters(), lr=1e-3, weight_decay=1e-4)\n",
        "\n",
        "# optimizer = optim.SGD(model.parameters(), lr=0.001, momentum=0.9)"
      ]
    },
    {
      "cell_type": "markdown",
      "metadata": {
        "id": "E333VV0LT-H8"
      },
      "source": [
        "### Train the model\n",
        "We're now ready to train our model!\n",
        "\n",
        "We'll start simple and just run it for one epoch, but feel free to run it for more `num_epochs` if you've got the time. We hope to see a decreasing loss as training progresses, which will provide some evidence that the model is learning. Note that we haven't frozen any weights in the pretrained model, a choice which you may want to revisit and we discuss in a little more detail below.\n",
        "\n",
        "For each epoch we'll iterate through the batches, and for each batch we'll do the following:\n",
        "1. Zero out the gradients. PyTorch will sum the gradients from past batches when doing its backward pass, so in order to make sure we are only using the gradients computed for the current batch, we zero out the gradients at the beginning of each batch.\n",
        "2. Run the forward pass.\n",
        "3. Compute the loss and track it.\n",
        "4. Compute our gradients and update our weight parameters."
      ]
    },
    {
      "cell_type": "code",
      "execution_count": null,
      "metadata": {
        "colab": {
          "base_uri": "https://localhost:8080/"
        },
        "id": "1mWP4Ho9zL-k",
        "outputId": "dda14fed-e162-4083-dcf6-9d64722c7ed6"
      },
      "outputs": [],
      "source": [
        "if torch.cuda.is_available():\n",
        "    device = \"cuda\"\n",
        "elif torch.backends.mps.is_available():\n",
        "    device = \"mps\"\n",
        "else:\n",
        "    device = \"cpu\"\n",
        "\n",
        "print(f\"Using {device} device.\")\n",
        "\n",
        "\n",
        "# Place model on device\n",
        "model.to(device)\n",
        "print(next(model.parameters()).device)"
      ]
    },
    {
      "cell_type": "code",
      "execution_count": null,
      "metadata": {
        "id": "zvqpG9e440g1"
      },
      "outputs": [],
      "source": [
        "from collections import Counter\n",
        "\n",
        "import pandas as pd\n",
        "import torch\n",
        "from tqdm.notebook import tqdm\n",
        "\n",
        "\n",
        "def class_counts(dataset):\n",
        "    c = Counter(x[1] for x in tqdm(dataset))\n",
        "    try:\n",
        "        class_to_index = dataset.class_to_idx\n",
        "    except AttributeError:\n",
        "        class_to_index = dataset.dataset.class_to_idx\n",
        "    return pd.Series({cat: c[idx] for cat, idx in class_to_index.items()})\n",
        "\n",
        "\n",
        "def train_epoch(model, optimizer, loss_fn, data_loader, device=\"cpu\"):\n",
        "    training_loss = 0.0\n",
        "    model.train()\n",
        "\n",
        "    # Iterate over all batches in the training set to complete one epoch\n",
        "    for batch in tqdm(data_loader, desc=\"Training\", leave=False):\n",
        "        optimizer.zero_grad()\n",
        "        # inputs = inputs.to(device)\n",
        "        # targets = targets.to(device)\n",
        "        inputs = batch[\"image\"].to(device)\n",
        "        targets = batch[\"label\"].to(device)\n",
        "\n",
        "        output = model(inputs)\n",
        "        loss = loss_fn(output, targets)\n",
        "\n",
        "        loss.backward()\n",
        "        optimizer.step()\n",
        "        training_loss += loss.data.item() * inputs.size(0)\n",
        "\n",
        "    return training_loss / len(data_loader.dataset)\n",
        "\n",
        "\n",
        "def predict(model, data_loader, device=\"cpu\"):\n",
        "    all_probs = torch.tensor([]).to(device)\n",
        "\n",
        "    model.eval()\n",
        "    with torch.no_grad():\n",
        "        for batch in tqdm(data_loader, desc=\"Predicting\", leave=False):\n",
        "            inputs = batch[\"image\"].to(device)\n",
        "            output = model(inputs)\n",
        "            probs = torch.nn.functional.softmax(output, dim=1)\n",
        "            all_probs = torch.cat((all_probs, probs), dim=0)\n",
        "\n",
        "    return all_probs\n",
        "\n",
        "\n",
        "def score(model, data_loader, loss_fn, device=\"cpu\"):\n",
        "    total_loss = 0\n",
        "    total_correct = 0\n",
        "\n",
        "    model.eval()\n",
        "    with torch.no_grad():\n",
        "        for batch in tqdm(data_loader, desc=\"Scoring\", leave=False):\n",
        "            inputs = batch[\"image\"].to(device)\n",
        "            targets = batch[\"label\"].to(device)\n",
        "            output = model(inputs)\n",
        "\n",
        "            loss = loss_fn(output, targets)\n",
        "            total_loss += loss.data.item() * inputs.size(0)\n",
        "            # Get the predicted class index\n",
        "            predicted_classes = torch.argmax(output, dim=1)\n",
        "            # Get the true class index from the one-hot encoded targets\n",
        "            true_classes = torch.argmax(targets, dim=1)\n",
        "\n",
        "            # Compare the predicted and true class indices\n",
        "            correct = torch.eq(predicted_classes, true_classes)\n",
        "            # correct = torch.eq(torch.argmax(output, dim=1), targets)\n",
        "            total_correct += torch.sum(correct).item()\n",
        "\n",
        "    n_observations = data_loader.batch_size * len(data_loader)\n",
        "    average_loss = total_loss / n_observations\n",
        "    accuracy = total_correct / n_observations\n",
        "    return average_loss, accuracy\n",
        "\n",
        "\n",
        "# Callbacks\n",
        "\n",
        "def early_stopping(validation_loss, best_val_loss, counter):\n",
        "    \"\"\"Function that implements Early Stopping\"\"\"\n",
        "\n",
        "    stop = False\n",
        "    patience = 5\n",
        "    if validation_loss < best_val_loss:\n",
        "        counter = 0\n",
        "    else:\n",
        "        counter += 1\n",
        "\n",
        "    # Check if counter is >= patience (5 epochs in our case)\n",
        "    # Set stop variable accordingly\n",
        "    if counter >= patience:\n",
        "        stop = True\n",
        "\n",
        "    return counter, stop\n",
        "\n",
        "\n",
        "\n",
        "def checkpointing(validation_loss, best_val_loss, model, optimizer, save_path):\n",
        "\n",
        "    if validation_loss < best_val_loss:\n",
        "        torch.save(\n",
        "            {\n",
        "                \"model_state_dict\": model.state_dict(),\n",
        "                \"optimizer_state_dict\": optimizer.state_dict(),\n",
        "                \"loss\": best_val_loss,\n",
        "            },\n",
        "            save_path,\n",
        "        )\n",
        "        print(f\"Checkpoint saved with validation loss {validation_loss:.4f}\")\n",
        "\n",
        "\n",
        "def train(\n",
        "    model,\n",
        "    optimizer,\n",
        "    loss_fn,\n",
        "    train_loader,\n",
        "    val_loader,\n",
        "    epochs=20,\n",
        "    device=\"cpu\",\n",
        "    scheduler=None,\n",
        "    checkpoint_path=None,\n",
        "    early_stopping=None,\n",
        "):\n",
        "    # Track the model progress over epochs\n",
        "    train_losses = []\n",
        "    train_accuracies = []\n",
        "    val_losses = []\n",
        "    val_accuracies = []\n",
        "    learning_rates = []\n",
        "\n",
        "    # Create the trackers if needed for checkpointing and early stopping\n",
        "    best_val_loss = float(\"inf\")\n",
        "    early_stopping_counter = 0\n",
        "\n",
        "    print(\"Model evaluation before start of training...\")\n",
        "    # Test on training set\n",
        "    train_loss, train_accuracy = score(model, train_loader, loss_fn, device)\n",
        "    train_losses.append(train_loss)\n",
        "    train_accuracies.append(train_accuracy)\n",
        "    # Test on validation set\n",
        "    validation_loss, validation_accuracy = score(model, val_loader, loss_fn, device)\n",
        "    val_losses.append(validation_loss)\n",
        "    val_accuracies.append(validation_accuracy)\n",
        "\n",
        "    for epoch in range(1, epochs + 1):\n",
        "        print(\"\\n\")\n",
        "        print(f\"Starting epoch {epoch}/{epochs}\")\n",
        "\n",
        "        # Train one epoch\n",
        "        train_epoch(model, optimizer, loss_fn, train_loader, device)\n",
        "\n",
        "        # Evaluate training results\n",
        "        train_loss, train_accuracy = score(model, train_loader, loss_fn, device)\n",
        "        train_losses.append(train_loss)\n",
        "        train_accuracies.append(train_accuracy)\n",
        "\n",
        "        # Test on validation set\n",
        "        validation_loss, validation_accuracy = score(model, val_loader, loss_fn, device)\n",
        "        val_losses.append(validation_loss)\n",
        "        val_accuracies.append(validation_accuracy)\n",
        "\n",
        "        print(f\"Epoch: {epoch}\")\n",
        "        print(f\"Training loss: {train_loss:.4f}\")\n",
        "        print(f\"Training accuracy: {train_accuracy*100:.4f}%\")\n",
        "        print(f\"Validation loss: {validation_loss:.4f}\")\n",
        "        print(f\"Validation accuracy: {validation_accuracy*100:.4f}%\")\n",
        "\n",
        "        # # Log the learning rate and have the scheduler adjust it\n",
        "        lr = optimizer.param_groups[0][\"lr\"]\n",
        "        learning_rates.append(lr)\n",
        "        if scheduler:\n",
        "            scheduler.step()\n",
        "\n",
        "        # Checkpointing saves the model if current model is better than best so far\n",
        "        if checkpoint_path:\n",
        "            checkpointing(\n",
        "                validation_loss, best_val_loss, model, optimizer, checkpoint_path\n",
        "            )\n",
        "\n",
        "        # Early Stopping\n",
        "        if early_stopping:\n",
        "            early_stopping_counter, stop = early_stopping(\n",
        "                validation_loss, best_val_loss, early_stopping_counter\n",
        "            )\n",
        "            if stop:\n",
        "                print(f\"Early stopping triggered after {epoch} epochs\")\n",
        "                break\n",
        "\n",
        "        if validation_loss < best_val_loss:\n",
        "            best_val_loss = validation_loss\n",
        "\n",
        "    return (\n",
        "        learning_rates,\n",
        "        train_losses,\n",
        "        val_losses,\n",
        "        train_accuracies,\n",
        "        val_accuracies,\n",
        "        epoch,\n",
        "    )\n"
      ]
    },
    {
      "cell_type": "code",
      "execution_count": null,
      "metadata": {
        "colab": {
          "base_uri": "https://localhost:8080/"
        },
        "id": "dfmR3Zrc7q-u",
        "outputId": "e4ba820b-b87a-4ed2-e523-aeab005122c5"
      },
      "outputs": [],
      "source": [
        "\n",
        "loss_fn = nn.CrossEntropyLoss()\n",
        "optimizer = optim.Adam(model.parameters(), lr=1e-3, weight_decay=1e-4)\n",
        "\n",
        "print(loss_fn)\n",
        "print(\"----------------------\")\n",
        "print(optimizer)\n",
        "\n",
        "from torch.optim.lr_scheduler import StepLR\n",
        "\n",
        "# Period of learning rate decay\n",
        "step_size = 4\n",
        "# Multiplicative factor of learning rate decay\n",
        "gamma = 0.2\n",
        "\n",
        "# Initialize the learning rate scheduler\n",
        "scheduler = StepLR(\n",
        "    optimizer,\n",
        "    step_size=step_size,\n",
        "    gamma=gamma,\n",
        ")\n",
        "\n",
        "print(type(scheduler))"
      ]
    },
    {
      "cell_type": "code",
      "execution_count": null,
      "metadata": {
        "colab": {
          "base_uri": "https://localhost:8080/",
          "height": 66,
          "referenced_widgets": [
            "cac23a1be3cf4fe594484f03d3cf45d5",
            "13b2a13c66e6424cbd9dfdfa42b08162",
            "d75143dd78e74f58bdbf14b8fbf36779",
            "b3c2b2feaeed43bf91550abfe720e33e",
            "9dd8ada10aab4061a75e52bb378a89be",
            "d572006cc1204b4e8e2733cf07f7d177",
            "946a29ab49ec493ba551f180b2520db0",
            "3ccc0232c890412ea173b9df1b200667",
            "d547c59105294fea8512d6a00811dc8f",
            "cb216006785140e78ab8a528c00b7b6e",
            "28b4816692be4a1e8f511769bd4a889c"
          ]
        },
        "id": "VvPfuTx_7vdc",
        "outputId": "de7ffe54-fee6-401a-c8e5-d626da1e9e55"
      },
      "outputs": [],
      "source": [
        "epochs_to_train = 10\n",
        "checkpoint_path = \"model/LR_model.pth\"\n",
        "\n",
        "train_results = train(\n",
        "    model,\n",
        "    optimizer,\n",
        "    loss_fn,\n",
        "    train_dataloader,\n",
        "    eval_dataloader,\n",
        "    epochs=epochs_to_train,\n",
        "    device=device,\n",
        "    scheduler=scheduler,\n",
        "    checkpoint_path=checkpoint_path,\n",
        "    early_stopping=early_stopping,\n",
        ")\n",
        "\n",
        "(\n",
        "    learning_rates,\n",
        "    train_losses,\n",
        "    valid_losses,\n",
        "    train_accuracies,\n",
        "    valid_accuracies,\n",
        "    epochs,\n",
        ") = train_results"
      ]
    },
    {
      "cell_type": "code",
      "execution_count": null,
      "metadata": {
        "colab": {
          "base_uri": "https://localhost:8080/",
          "height": 472
        },
        "id": "LlrRgPwnKgOj",
        "outputId": "11011182-32c0-4cdc-e6d9-93493cf8b031"
      },
      "outputs": [],
      "source": [
        "plt.plot(train_losses, label=\"Training Loss\")\n",
        "plt.plot(valid_losses, label=\"Validation Loss\")\n",
        "plt.ylim([0, 1.7])\n",
        "plt.title(\"Loss over epochs\")\n",
        "plt.xlabel(\"Epochs\")\n",
        "plt.ylabel(\"Loss\")\n",
        "plt.legend();"
      ]
    },
    {
      "cell_type": "code",
      "execution_count": null,
      "metadata": {
        "colab": {
          "base_uri": "https://localhost:8080/",
          "height": 472
        },
        "id": "lyTdUf8UOxot",
        "outputId": "38536c7a-c4a5-474a-a24a-29686ef8cc19"
      },
      "outputs": [],
      "source": [
        "# Plot train accuracies, use label=\"Training Accuracy\"\n",
        "plt.plot(train_accuracies, label=\"Training Accuracy\")\n",
        "plt.plot(valid_accuracies, label=\"Validation Accuracy\")\n",
        "plt.ylim([0, 1])\n",
        "plt.title(\"Accuracy over epochs\")\n",
        "plt.xlabel(\"Epochs\")\n",
        "plt.ylabel(\"Accuracy\")\n",
        "plt.legend();"
      ]
    },
    {
      "cell_type": "code",
      "execution_count": null,
      "metadata": {
        "id": "Q7zBSIZmT-H8",
        "tags": []
      },
      "outputs": [],
      "source": [
        "# num_epochs = 10\n",
        "\n",
        "# tracking_loss = {}\n",
        "\n",
        "# for epoch in range(1, num_epochs + 1):\n",
        "#     print(f\"Starting epoch {epoch}\")\n",
        "\n",
        "#     # iterate through the dataloader batches. tqdm keeps track of progress.\n",
        "#     for batch_n, batch in tqdm(\n",
        "#         enumerate(train_dataloader), total=len(train_dataloader)\n",
        "#     ):\n",
        "\n",
        "#         # 1) zero out the parameter gradients so that gradients from previous batches are not used in this step\n",
        "#         optimizer.zero_grad()\n",
        "\n",
        "#         # 2) run the foward step on this batch of images\n",
        "#         inputs = batch[\"image\"].to(device)\n",
        "#         targets = batch[\"label\"].to(device)\n",
        "#         outputs = model(inputs)\n",
        "\n",
        "#         # 3) compute the loss\n",
        "#         loss = criterion(outputs, targets)\n",
        "#         # let's keep track of the loss by epoch and batch\n",
        "#         tracking_loss[(epoch, batch_n)] = float(loss)\n",
        "\n",
        "#         # 4) compute our gradients\n",
        "#         loss.backward()\n",
        "#         # update our weights\n",
        "#         optimizer.step()"
      ]
    },
    {
      "cell_type": "markdown",
      "metadata": {
        "id": "s2VGto-VT-H8"
      },
      "source": [
        "Now let's plot the loss by epoch and batch. The x-axis here is a tuple of `(epoch, batch)`."
      ]
    },
    {
      "cell_type": "code",
      "execution_count": null,
      "metadata": {
        "colab": {
          "base_uri": "https://localhost:8080/",
          "height": 367
        },
        "id": "HYaLhrVMT-H9",
        "outputId": "8c2552d1-351b-445c-e43d-4c709c6f805b"
      },
      "outputs": [],
      "source": [
        "tracking_loss = pd.Series(tracking_loss)\n",
        "\n",
        "plt.figure(figsize=(10, 5))\n",
        "tracking_loss.plot(alpha=0.2, label=\"loss\")\n",
        "tracking_loss.rolling(center=True, min_periods=1, window=10).mean().plot(\n",
        "    label=\"loss (moving avg)\"\n",
        ")\n",
        "plt.xlabel(\"(Epoch, Batch)\")\n",
        "plt.ylabel(\"Loss\")\n",
        "plt.legend(loc=0)"
      ]
    },
    {
      "cell_type": "markdown",
      "metadata": {
        "id": "2mJTfq9wT-H9"
      },
      "source": [
        "Good news, the loss is going down! This is an encouraging start, especially since we haven't done anything fancy yet."
      ]
    },
    {
      "cell_type": "markdown",
      "metadata": {
        "id": "amgIwZJZT-H9"
      },
      "source": [
        "### Save the model\n",
        "We have the model loaded in memory already, so we don't really need to save the model, but it's often useful to do this so we can use it again later.\n",
        "\n",
        "Here's how:"
      ]
    },
    {
      "cell_type": "code",
      "execution_count": null,
      "metadata": {
        "id": "etqSxMswT-H-"
      },
      "outputs": [],
      "source": [
        "print(checkpoint_path)\n",
        "torch.save(model, checkpoint_path)"
      ]
    },
    {
      "cell_type": "markdown",
      "metadata": {
        "id": "jBubo1BZT-H-"
      },
      "source": [
        "## 7. Evaluation\n",
        "So far, not so bad. We've shown an improvement in the loss on the training set, but that tells us little about how our model will do on new data. Let's reload our saved model and try generating some predictions on the evaluation split we created earlier."
      ]
    },
    {
      "cell_type": "code",
      "execution_count": null,
      "metadata": {
        "id": "0TUUQOxiT-H-"
      },
      "outputs": [],
      "source": [
        "loaded_model = torch.load(checkpoint_path)"
      ]
    },
    {
      "cell_type": "markdown",
      "metadata": {
        "id": "VvBVWTkNT-H-"
      },
      "source": [
        "We create the eval dataset and dataloader just like we did earlier with the training dataset and dataloader:"
      ]
    },
    {
      "cell_type": "code",
      "execution_count": null,
      "metadata": {
        "id": "yxOXxxEiT-H_"
      },
      "outputs": [],
      "source": [
        "eval_dataset = ImagesDataset(x_eval, y_eval)\n",
        "eval_dataloader = DataLoader(eval_dataset, batch_size=32)"
      ]
    },
    {
      "cell_type": "markdown",
      "metadata": {
        "id": "7Mg1l61LT-H_"
      },
      "source": [
        "### Make predictions\n",
        "We'll iterate through the eval dataloader in batches, just like we did for training, but this time we aren't going to need to compute gradients or update weights. For each batch, we'll do the following:\n",
        "1. Run the forward pass to get the model output or logits\n",
        "2. Apply a softmax function to convert the logits into probability space with range[0,1]. During training, the softmax operation was handled internally by `nn.CrossEntropyLoss`. We aren't computing the loss now because we are just doing evaluation, but we still want the predictions to be in the range[0,1].\n",
        "3. Store the results in a dataframe for further analysis"
      ]
    },
    {
      "cell_type": "code",
      "execution_count": null,
      "metadata": {
        "colab": {
          "base_uri": "https://localhost:8080/",
          "height": 476,
          "referenced_widgets": [
            "da5900dafe69479caf82ca15e7947547",
            "e7f915efa2c246839b6f4fc6842e024a",
            "5f6034f2e50749fb85c92c8664120535",
            "2d1b2808d440487d8e7aa2e572a94e80",
            "0326a214a023420c8965660f72d1fd47",
            "3e909a7bdbed47c782c69dcbd3605862",
            "a573f8ed9ecb420d877facde56c5b7ce",
            "a95d3756048e40c88792dfd7b102cb8e",
            "5e36f2991e9e4076bc8d17fdf89b30eb",
            "b761617005fa417590efd41c653b2634",
            "663d1ecceb804359a3d556749da340b1"
          ]
        },
        "id": "eH5J3CffT-H_",
        "outputId": "18515bfc-6fb8-44bd-d1ff-ab5975742673",
        "tags": []
      },
      "outputs": [],
      "source": [
        "preds_collector = []\n",
        "\n",
        "# put the model in eval mode so we don't update any parameters\n",
        "model.eval()\n",
        "\n",
        "# we aren't updating our weights so no need to calculate gradients\n",
        "with torch.no_grad():\n",
        "    for batch in tqdm(eval_dataloader, total=len(eval_dataloader)):\n",
        "        # 1) run the forward step\n",
        "        inputs = batch[\"image\"].to(device)\n",
        "        logits = model.forward(inputs)\n",
        "        # 2) apply softmax so that model outputs are in range [0,1]\n",
        "        preds = nn.functional.softmax(logits, dim=1)\n",
        "        # 3) store this batch's predictions in df\n",
        "        # note that PyTorch Tensors need to first be detached from their computational graph before converting to numpy arrays\n",
        "        preds_df = pd.DataFrame(\n",
        "            preds.detach().cpu().numpy(),\n",
        "            index=batch[\"image_id\"],\n",
        "            columns=species_labels,\n",
        "        )\n",
        "        preds_collector.append(preds_df)\n",
        "\n",
        "eval_preds_df = pd.concat(preds_collector)\n",
        "eval_preds_df.head()"
      ]
    },
    {
      "cell_type": "markdown",
      "metadata": {
        "id": "bgmt5h9MT-IA",
        "tags": []
      },
      "source": [
        "### Predicted labels distribution\n",
        "First let's review the species distribution we saw in the training set."
      ]
    },
    {
      "cell_type": "code",
      "execution_count": null,
      "metadata": {
        "colab": {
          "base_uri": "https://localhost:8080/",
          "height": 352
        },
        "id": "iDVWolTiT-IA",
        "outputId": "94a704ff-81e5-47f8-8179-67306436849d"
      },
      "outputs": [],
      "source": [
        "print(\"True labels (training):\")\n",
        "y_train.idxmax(axis=1).value_counts()"
      ]
    },
    {
      "cell_type": "markdown",
      "metadata": {
        "id": "eaD1itAGT-IB"
      },
      "source": [
        "Here's the distribution of our predictions on the eval set."
      ]
    },
    {
      "cell_type": "code",
      "execution_count": null,
      "metadata": {
        "colab": {
          "base_uri": "https://localhost:8080/",
          "height": 352
        },
        "id": "x1GnWIRhT-IB",
        "outputId": "3309da89-bf59-42f5-f2a9-2e5537e02fb3"
      },
      "outputs": [],
      "source": [
        "print(\"Predicted labels (eval):\")\n",
        "eval_preds_df.idxmax(axis=1).value_counts()"
      ]
    },
    {
      "cell_type": "markdown",
      "metadata": {
        "id": "5f7MNSDHT-IB"
      },
      "source": [
        "The actual evaluation set is more evenly distributed than our predictions, so we already know there is some room for improvement here."
      ]
    },
    {
      "cell_type": "code",
      "execution_count": null,
      "metadata": {
        "colab": {
          "base_uri": "https://localhost:8080/",
          "height": 352
        },
        "id": "2xtUejoeT-IB",
        "outputId": "5b4867c1-dd43-4d02-86d7-9d30012cbd06"
      },
      "outputs": [],
      "source": [
        "print(\"True labels (eval):\")\n",
        "y_eval.idxmax(axis=1).value_counts()"
      ]
    },
    {
      "cell_type": "markdown",
      "metadata": {
        "id": "OOkfOndzT-IC"
      },
      "source": [
        "### Accuracy\n",
        "Now let's compute how accurate our model is and compare that against some trivial baseline models. First let's get the labels with the highest score for each image."
      ]
    },
    {
      "cell_type": "code",
      "execution_count": null,
      "metadata": {
        "colab": {
          "base_uri": "https://localhost:8080/",
          "height": 241
        },
        "id": "ebG3wUlGT-IC",
        "outputId": "e7386ead-626d-4542-f51f-e0ccedef8ace"
      },
      "outputs": [],
      "source": [
        "eval_predictions = eval_preds_df.idxmax(axis=1)\n",
        "eval_predictions.head()"
      ]
    },
    {
      "cell_type": "markdown",
      "metadata": {
        "id": "iAnnKN-_T-ID"
      },
      "source": [
        "Random guessing across 8 classes would yield an accuracy of 12.5% (1/8). But we could construct a slightly better trivial model by always guessing the most common class (\"monkey_prosimian\" images in this case).\n",
        "\n",
        "If we were to always guess that an image is `monkey_prosimian`, we could achieve accuracy of 15.8%."
      ]
    },
    {
      "cell_type": "code",
      "execution_count": null,
      "metadata": {
        "colab": {
          "base_uri": "https://localhost:8080/"
        },
        "id": "znGPGQK9T-ID",
        "outputId": "c3a81f60-d615-423d-bfdd-c17b808e96e8"
      },
      "outputs": [],
      "source": [
        "eval_true = y_eval.idxmax(axis=1)\n",
        "\n",
        "(eval_true == \"monkey_prosimian\").sum() / len(eval_predictions)"
      ]
    },
    {
      "cell_type": "markdown",
      "metadata": {
        "id": "jkwHc_AiT-IE"
      },
      "source": [
        "Let's see how our model compares. We take the species with the highest score for each image (`eval_predictions`) and compare that to the true labels."
      ]
    },
    {
      "cell_type": "code",
      "execution_count": null,
      "metadata": {
        "colab": {
          "base_uri": "https://localhost:8080/"
        },
        "id": "vy_8YIRzT-IE",
        "outputId": "fc34ccf4-f65f-4b8f-b05d-26f3d03d2fc7"
      },
      "outputs": [],
      "source": [
        "correct = (eval_predictions == eval_true).sum()\n",
        "accuracy = correct / len(eval_predictions)\n",
        "accuracy"
      ]
    },
    {
      "cell_type": "markdown",
      "metadata": {
        "id": "v3F0XktkT-IE"
      },
      "source": [
        "Our accuracy on the evaluation set is about 50%, which is not a bad start for a very simple first pass and one epoch of training."
      ]
    },
    {
      "cell_type": "markdown",
      "metadata": {
        "id": "MN37L2NnT-IF"
      },
      "source": [
        "Let's look at the predictions from another angle.\n",
        "\n",
        "We can see from the confusion matrix below that our model does reasonably well on some species, but we have plenty of room for improvement on antelopes, birds, hogs and blanks."
      ]
    },
    {
      "cell_type": "code",
      "execution_count": null,
      "metadata": {
        "colab": {
          "base_uri": "https://localhost:8080/",
          "height": 619
        },
        "id": "2DkLkw2KT-IF",
        "outputId": "6478b761-0dad-48c9-87a3-10648413ce8b"
      },
      "outputs": [],
      "source": [
        "from sklearn.metrics import ConfusionMatrixDisplay\n",
        "\n",
        "fig, ax = plt.subplots(figsize=(10, 10))\n",
        "cm = ConfusionMatrixDisplay.from_predictions(\n",
        "    y_eval.idxmax(axis=1),\n",
        "    eval_preds_df.idxmax(axis=1),\n",
        "    ax=ax,\n",
        "    xticks_rotation=90,\n",
        "    colorbar=True,\n",
        ")"
      ]
    },
    {
      "cell_type": "markdown",
      "metadata": {
        "id": "vxEe7oxcT-IG"
      },
      "source": [
        "That's where you come in! What can you do to improve on this benchmark?\n",
        "\n",
        "Here are some ideas you might want to try:\n",
        "* Train on the full training dataset. We've only used 50% of the training data so far.\n",
        "* Train for more epochs. We've only done 1 so far.\n",
        "* Try another pretrained model. For example, you may have more success with EfficientNet, or another ResNet model with more layers like ResNet152. See what's available from pytorch [here](https://pytorch.org/vision/stable/models.html). You may also want to review which models are or have been state of the art for image classification tasks, for example on [paperswithcode.com](https://paperswithcode.com/task/image-classification). Keep in mind that different models will require different input and output dimensions, so you'll need to update how you construct `model` above.\n",
        "* Experiment with different loss functions.\n",
        "* Experiment with different learning rates or learning rate schedulers.\n",
        "* Add more layers to the model head (`model.fc`).\n",
        "* You also may want to consider freezing the weights in the backbone model and only training the head (`model.fc`). If this results in higher accuracy, that suggests the current approach may be overwriting the backbone weights in a problematic way. One approach here would be to train just the model head, and then unfreeze the backbone but train at a lower learning rate.\n",
        "* Training will be much faster using GPUs, but you will need to make some small tweaks to the code.\n",
        "* As you become more comfortable iterating through different versions of the model, you may want to try out [PyTorch Lightning](https://www.pytorchlightning.ai/) or [Lightning Flash](https://lightning-flash.readthedocs.io/en/latest/quickstart.html), which build upon PyTorch and eliminate a lot of boilerplate code, in addition to providing a more complete research framework for deep learning problems."
      ]
    },
    {
      "cell_type": "markdown",
      "metadata": {
        "id": "5yVcQptOT-IG"
      },
      "source": [
        "## 8. Create submission"
      ]
    },
    {
      "cell_type": "markdown",
      "metadata": {
        "id": "AFd26RXVT-IG"
      },
      "source": [
        "Last but not least, we'll want to participate in the competition and see where we stand on the leaderboard.\n",
        "\n",
        "To do this we need to create predictions for the **competition test set** (not the eval set we used above). You don't have labels for these.\n",
        "\n",
        "We'll create predictions in the same way we did for the `eval` set, but this time using the `test_features` we downloaded from the [competition website](https://www.drivendata.org/competitions/87/competition-image-classification-wildlife-conservation/data/)."
      ]
    },
    {
      "cell_type": "code",
      "execution_count": null,
      "metadata": {
        "id": "a77XA0X0T-IG"
      },
      "outputs": [],
      "source": [
        "test_dataset = ImagesDataset(test_features.filepath.to_frame())\n",
        "test_dataloader = DataLoader(test_dataset, batch_size=32)"
      ]
    },
    {
      "cell_type": "code",
      "execution_count": null,
      "metadata": {
        "colab": {
          "base_uri": "https://localhost:8080/",
          "height": 258,
          "referenced_widgets": [
            "c32ae1ed5730459abae3aef6bcb2fd64",
            "8ba6a7ff76f1445f99180adcc86c098b",
            "65379321cdb74a64bbdc7eb5867c3e88",
            "1d48a4cd507b4562b7295c7540a644f9",
            "3a46b27585704addb76b55809d190553",
            "0b5af9f6957f403facb57bafaab27acf",
            "e27a1c48690542c09afab39daccd3243",
            "740640e14ab0433ab7dfea9c00fd0a33",
            "6537da987749476884f5b9540e179a05",
            "dc024cbd6d5645479e3d8e35a752f277",
            "c36ff8eb034d4db9b80791e72f7b14a8"
          ]
        },
        "id": "RzIorlywT-IG",
        "outputId": "1456b0fd-d428-4d06-b208-59fb5dec34f3"
      },
      "outputs": [],
      "source": [
        "preds_collector = []\n",
        "\n",
        "# put the model in eval mode so we don't update any parameters\n",
        "model.eval()\n",
        "\n",
        "# we aren't updating our weights so no need to calculate gradients\n",
        "with torch.no_grad():\n",
        "    for batch in tqdm(test_dataloader, total=len(test_dataloader), desc=\"Testing\"):\n",
        "        # run the forward step\n",
        "        inputs = batch[\"image\"].to(device)\n",
        "        logits = model.forward(inputs)\n",
        "        # apply softmax so that model outputs are in range [0,1]\n",
        "        preds = nn.functional.softmax(logits, dim=1)\n",
        "        # store this batch's predictions in df\n",
        "        # note that PyTorch Tensors need to first be detached from their computational graph before converting to numpy arrays\n",
        "        preds_df = pd.DataFrame(\n",
        "            preds.detach().cpu().numpy(),\n",
        "            index=batch[\"image_id\"],\n",
        "            columns=species_labels,\n",
        "        )\n",
        "        preds_collector.append(preds_df)\n",
        "\n",
        "submission_df = pd.concat(preds_collector)\n",
        "submission_df.head()"
      ]
    },
    {
      "cell_type": "markdown",
      "metadata": {
        "id": "htvruQwET-IH"
      },
      "source": [
        "Let's check a couple things on `submission_df` before submitting to the platform. We'll want to make sure our submission's index and column labels match the submission format. (The DrivenData platform will do these data integrity checks as well, but it will be quicker to detect problems this way.)"
      ]
    },
    {
      "cell_type": "code",
      "execution_count": null,
      "metadata": {
        "id": "GmXSseWXT-IH"
      },
      "outputs": [],
      "source": [
        "submission_format = pd.read_csv(\"submission_format.csv\", index_col=\"id\")\n",
        "\n",
        "assert all(submission_df.index == submission_format.index)\n",
        "assert all(submission_df.columns == submission_format.columns)"
      ]
    },
    {
      "cell_type": "markdown",
      "metadata": {
        "id": "ZELSG5JDT-IH"
      },
      "source": [
        "Looks like we're ready to submit! Save the dataframe out to a CSV file and then upload it via the [Submissions page](https://www.drivendata.org/competitions/87/competition-image-classification-wildlife-conservation/submissions/) on the competition website."
      ]
    },
    {
      "cell_type": "code",
      "execution_count": null,
      "metadata": {
        "id": "RaUQtnuQT-IH"
      },
      "outputs": [],
      "source": [
        "submission_df.to_csv(\"submission_df.csv\")"
      ]
    },
    {
      "cell_type": "markdown",
      "metadata": {
        "id": "UO6yZiKOT-IH"
      },
      "source": [
        "How did we do? We should get a score of ~1.8, though your results may differ slightly due to non-determinism in model training. (For reference, a randomly generated submission yields a score of something like ~2.4.)\n",
        "\n",
        "![benchmark submission](https://drivendata-public-assets.s3.amazonaws.com/conservision-benchmark-score.jpg)\n",
        "\n",
        "Now it is up to you to improve on this benchmark!\n",
        "\n",
        "Head over to the [competition](https://www.drivendata.org/competitions/87/competition-image-classification-wildlife-conservation/) for data and more background info, or the [competition forum](https://community.drivendata.org/c/conser-vision/87) if you have any questions. Good luck!"
      ]
    }
  ],
  "metadata": {
    "accelerator": "GPU",
    "anaconda-cloud": {},
    "colab": {
      "gpuType": "T4",
      "provenance": []
    },
    "kernelspec": {
      "display_name": "Python 3",
      "name": "python3"
    },
    "language_info": {
      "codemirror_mode": {
        "name": "ipython",
        "version": 3
      },
      "file_extension": ".py",
      "mimetype": "text/x-python",
      "name": "python",
      "nbconvert_exporter": "python",
      "pygments_lexer": "ipython3",
      "version": "3.8.12"
    },
    "widgets": {
      "application/vnd.jupyter.widget-state+json": {
        "0326a214a023420c8965660f72d1fd47": {
          "model_module": "@jupyter-widgets/base",
          "model_module_version": "1.2.0",
          "model_name": "LayoutModel",
          "state": {
            "_model_module": "@jupyter-widgets/base",
            "_model_module_version": "1.2.0",
            "_model_name": "LayoutModel",
            "_view_count": null,
            "_view_module": "@jupyter-widgets/base",
            "_view_module_version": "1.2.0",
            "_view_name": "LayoutView",
            "align_content": null,
            "align_items": null,
            "align_self": null,
            "border": null,
            "bottom": null,
            "display": null,
            "flex": null,
            "flex_flow": null,
            "grid_area": null,
            "grid_auto_columns": null,
            "grid_auto_flow": null,
            "grid_auto_rows": null,
            "grid_column": null,
            "grid_gap": null,
            "grid_row": null,
            "grid_template_areas": null,
            "grid_template_columns": null,
            "grid_template_rows": null,
            "height": null,
            "justify_content": null,
            "justify_items": null,
            "left": null,
            "margin": null,
            "max_height": null,
            "max_width": null,
            "min_height": null,
            "min_width": null,
            "object_fit": null,
            "object_position": null,
            "order": null,
            "overflow": null,
            "overflow_x": null,
            "overflow_y": null,
            "padding": null,
            "right": null,
            "top": null,
            "visibility": null,
            "width": null
          }
        },
        "0b5af9f6957f403facb57bafaab27acf": {
          "model_module": "@jupyter-widgets/base",
          "model_module_version": "1.2.0",
          "model_name": "LayoutModel",
          "state": {
            "_model_module": "@jupyter-widgets/base",
            "_model_module_version": "1.2.0",
            "_model_name": "LayoutModel",
            "_view_count": null,
            "_view_module": "@jupyter-widgets/base",
            "_view_module_version": "1.2.0",
            "_view_name": "LayoutView",
            "align_content": null,
            "align_items": null,
            "align_self": null,
            "border": null,
            "bottom": null,
            "display": null,
            "flex": null,
            "flex_flow": null,
            "grid_area": null,
            "grid_auto_columns": null,
            "grid_auto_flow": null,
            "grid_auto_rows": null,
            "grid_column": null,
            "grid_gap": null,
            "grid_row": null,
            "grid_template_areas": null,
            "grid_template_columns": null,
            "grid_template_rows": null,
            "height": null,
            "justify_content": null,
            "justify_items": null,
            "left": null,
            "margin": null,
            "max_height": null,
            "max_width": null,
            "min_height": null,
            "min_width": null,
            "object_fit": null,
            "object_position": null,
            "order": null,
            "overflow": null,
            "overflow_x": null,
            "overflow_y": null,
            "padding": null,
            "right": null,
            "top": null,
            "visibility": null,
            "width": null
          }
        },
        "13b2a13c66e6424cbd9dfdfa42b08162": {
          "model_module": "@jupyter-widgets/controls",
          "model_module_version": "1.5.0",
          "model_name": "HTMLModel",
          "state": {
            "_dom_classes": [],
            "_model_module": "@jupyter-widgets/controls",
            "_model_module_version": "1.5.0",
            "_model_name": "HTMLModel",
            "_view_count": null,
            "_view_module": "@jupyter-widgets/controls",
            "_view_module_version": "1.5.0",
            "_view_name": "HTMLView",
            "description": "",
            "description_tooltip": null,
            "layout": "IPY_MODEL_d572006cc1204b4e8e2733cf07f7d177",
            "placeholder": "​",
            "style": "IPY_MODEL_946a29ab49ec493ba551f180b2520db0",
            "value": "Scoring:  31%"
          }
        },
        "1d48a4cd507b4562b7295c7540a644f9": {
          "model_module": "@jupyter-widgets/controls",
          "model_module_version": "1.5.0",
          "model_name": "HTMLModel",
          "state": {
            "_dom_classes": [],
            "_model_module": "@jupyter-widgets/controls",
            "_model_module_version": "1.5.0",
            "_model_name": "HTMLModel",
            "_view_count": null,
            "_view_module": "@jupyter-widgets/controls",
            "_view_module_version": "1.5.0",
            "_view_name": "HTMLView",
            "description": "",
            "description_tooltip": null,
            "layout": "IPY_MODEL_dc024cbd6d5645479e3d8e35a752f277",
            "placeholder": "​",
            "style": "IPY_MODEL_c36ff8eb034d4db9b80791e72f7b14a8",
            "value": " 140/140 [00:36&lt;00:00,  3.98it/s]"
          }
        },
        "28b4816692be4a1e8f511769bd4a889c": {
          "model_module": "@jupyter-widgets/controls",
          "model_module_version": "1.5.0",
          "model_name": "DescriptionStyleModel",
          "state": {
            "_model_module": "@jupyter-widgets/controls",
            "_model_module_version": "1.5.0",
            "_model_name": "DescriptionStyleModel",
            "_view_count": null,
            "_view_module": "@jupyter-widgets/base",
            "_view_module_version": "1.2.0",
            "_view_name": "StyleView",
            "description_width": ""
          }
        },
        "2d1b2808d440487d8e7aa2e572a94e80": {
          "model_module": "@jupyter-widgets/controls",
          "model_module_version": "1.5.0",
          "model_name": "HTMLModel",
          "state": {
            "_dom_classes": [],
            "_model_module": "@jupyter-widgets/controls",
            "_model_module_version": "1.5.0",
            "_model_name": "HTMLModel",
            "_view_count": null,
            "_view_module": "@jupyter-widgets/controls",
            "_view_module_version": "1.5.0",
            "_view_name": "HTMLView",
            "description": "",
            "description_tooltip": null,
            "layout": "IPY_MODEL_b761617005fa417590efd41c653b2634",
            "placeholder": "​",
            "style": "IPY_MODEL_663d1ecceb804359a3d556749da340b1",
            "value": " 129/129 [00:33&lt;00:00,  4.35it/s]"
          }
        },
        "3a46b27585704addb76b55809d190553": {
          "model_module": "@jupyter-widgets/base",
          "model_module_version": "1.2.0",
          "model_name": "LayoutModel",
          "state": {
            "_model_module": "@jupyter-widgets/base",
            "_model_module_version": "1.2.0",
            "_model_name": "LayoutModel",
            "_view_count": null,
            "_view_module": "@jupyter-widgets/base",
            "_view_module_version": "1.2.0",
            "_view_name": "LayoutView",
            "align_content": null,
            "align_items": null,
            "align_self": null,
            "border": null,
            "bottom": null,
            "display": null,
            "flex": null,
            "flex_flow": null,
            "grid_area": null,
            "grid_auto_columns": null,
            "grid_auto_flow": null,
            "grid_auto_rows": null,
            "grid_column": null,
            "grid_gap": null,
            "grid_row": null,
            "grid_template_areas": null,
            "grid_template_columns": null,
            "grid_template_rows": null,
            "height": null,
            "justify_content": null,
            "justify_items": null,
            "left": null,
            "margin": null,
            "max_height": null,
            "max_width": null,
            "min_height": null,
            "min_width": null,
            "object_fit": null,
            "object_position": null,
            "order": null,
            "overflow": null,
            "overflow_x": null,
            "overflow_y": null,
            "padding": null,
            "right": null,
            "top": null,
            "visibility": null,
            "width": null
          }
        },
        "3ccc0232c890412ea173b9df1b200667": {
          "model_module": "@jupyter-widgets/base",
          "model_module_version": "1.2.0",
          "model_name": "LayoutModel",
          "state": {
            "_model_module": "@jupyter-widgets/base",
            "_model_module_version": "1.2.0",
            "_model_name": "LayoutModel",
            "_view_count": null,
            "_view_module": "@jupyter-widgets/base",
            "_view_module_version": "1.2.0",
            "_view_name": "LayoutView",
            "align_content": null,
            "align_items": null,
            "align_self": null,
            "border": null,
            "bottom": null,
            "display": null,
            "flex": null,
            "flex_flow": null,
            "grid_area": null,
            "grid_auto_columns": null,
            "grid_auto_flow": null,
            "grid_auto_rows": null,
            "grid_column": null,
            "grid_gap": null,
            "grid_row": null,
            "grid_template_areas": null,
            "grid_template_columns": null,
            "grid_template_rows": null,
            "height": null,
            "justify_content": null,
            "justify_items": null,
            "left": null,
            "margin": null,
            "max_height": null,
            "max_width": null,
            "min_height": null,
            "min_width": null,
            "object_fit": null,
            "object_position": null,
            "order": null,
            "overflow": null,
            "overflow_x": null,
            "overflow_y": null,
            "padding": null,
            "right": null,
            "top": null,
            "visibility": null,
            "width": null
          }
        },
        "3e909a7bdbed47c782c69dcbd3605862": {
          "model_module": "@jupyter-widgets/base",
          "model_module_version": "1.2.0",
          "model_name": "LayoutModel",
          "state": {
            "_model_module": "@jupyter-widgets/base",
            "_model_module_version": "1.2.0",
            "_model_name": "LayoutModel",
            "_view_count": null,
            "_view_module": "@jupyter-widgets/base",
            "_view_module_version": "1.2.0",
            "_view_name": "LayoutView",
            "align_content": null,
            "align_items": null,
            "align_self": null,
            "border": null,
            "bottom": null,
            "display": null,
            "flex": null,
            "flex_flow": null,
            "grid_area": null,
            "grid_auto_columns": null,
            "grid_auto_flow": null,
            "grid_auto_rows": null,
            "grid_column": null,
            "grid_gap": null,
            "grid_row": null,
            "grid_template_areas": null,
            "grid_template_columns": null,
            "grid_template_rows": null,
            "height": null,
            "justify_content": null,
            "justify_items": null,
            "left": null,
            "margin": null,
            "max_height": null,
            "max_width": null,
            "min_height": null,
            "min_width": null,
            "object_fit": null,
            "object_position": null,
            "order": null,
            "overflow": null,
            "overflow_x": null,
            "overflow_y": null,
            "padding": null,
            "right": null,
            "top": null,
            "visibility": null,
            "width": null
          }
        },
        "5e36f2991e9e4076bc8d17fdf89b30eb": {
          "model_module": "@jupyter-widgets/controls",
          "model_module_version": "1.5.0",
          "model_name": "ProgressStyleModel",
          "state": {
            "_model_module": "@jupyter-widgets/controls",
            "_model_module_version": "1.5.0",
            "_model_name": "ProgressStyleModel",
            "_view_count": null,
            "_view_module": "@jupyter-widgets/base",
            "_view_module_version": "1.2.0",
            "_view_name": "StyleView",
            "bar_color": null,
            "description_width": ""
          }
        },
        "5f6034f2e50749fb85c92c8664120535": {
          "model_module": "@jupyter-widgets/controls",
          "model_module_version": "1.5.0",
          "model_name": "FloatProgressModel",
          "state": {
            "_dom_classes": [],
            "_model_module": "@jupyter-widgets/controls",
            "_model_module_version": "1.5.0",
            "_model_name": "FloatProgressModel",
            "_view_count": null,
            "_view_module": "@jupyter-widgets/controls",
            "_view_module_version": "1.5.0",
            "_view_name": "ProgressView",
            "bar_style": "success",
            "description": "",
            "description_tooltip": null,
            "layout": "IPY_MODEL_a95d3756048e40c88792dfd7b102cb8e",
            "max": 129,
            "min": 0,
            "orientation": "horizontal",
            "style": "IPY_MODEL_5e36f2991e9e4076bc8d17fdf89b30eb",
            "value": 129
          }
        },
        "65379321cdb74a64bbdc7eb5867c3e88": {
          "model_module": "@jupyter-widgets/controls",
          "model_module_version": "1.5.0",
          "model_name": "FloatProgressModel",
          "state": {
            "_dom_classes": [],
            "_model_module": "@jupyter-widgets/controls",
            "_model_module_version": "1.5.0",
            "_model_name": "FloatProgressModel",
            "_view_count": null,
            "_view_module": "@jupyter-widgets/controls",
            "_view_module_version": "1.5.0",
            "_view_name": "ProgressView",
            "bar_style": "success",
            "description": "",
            "description_tooltip": null,
            "layout": "IPY_MODEL_740640e14ab0433ab7dfea9c00fd0a33",
            "max": 140,
            "min": 0,
            "orientation": "horizontal",
            "style": "IPY_MODEL_6537da987749476884f5b9540e179a05",
            "value": 140
          }
        },
        "6537da987749476884f5b9540e179a05": {
          "model_module": "@jupyter-widgets/controls",
          "model_module_version": "1.5.0",
          "model_name": "ProgressStyleModel",
          "state": {
            "_model_module": "@jupyter-widgets/controls",
            "_model_module_version": "1.5.0",
            "_model_name": "ProgressStyleModel",
            "_view_count": null,
            "_view_module": "@jupyter-widgets/base",
            "_view_module_version": "1.2.0",
            "_view_name": "StyleView",
            "bar_color": null,
            "description_width": ""
          }
        },
        "663d1ecceb804359a3d556749da340b1": {
          "model_module": "@jupyter-widgets/controls",
          "model_module_version": "1.5.0",
          "model_name": "DescriptionStyleModel",
          "state": {
            "_model_module": "@jupyter-widgets/controls",
            "_model_module_version": "1.5.0",
            "_model_name": "DescriptionStyleModel",
            "_view_count": null,
            "_view_module": "@jupyter-widgets/base",
            "_view_module_version": "1.2.0",
            "_view_name": "StyleView",
            "description_width": ""
          }
        },
        "740640e14ab0433ab7dfea9c00fd0a33": {
          "model_module": "@jupyter-widgets/base",
          "model_module_version": "1.2.0",
          "model_name": "LayoutModel",
          "state": {
            "_model_module": "@jupyter-widgets/base",
            "_model_module_version": "1.2.0",
            "_model_name": "LayoutModel",
            "_view_count": null,
            "_view_module": "@jupyter-widgets/base",
            "_view_module_version": "1.2.0",
            "_view_name": "LayoutView",
            "align_content": null,
            "align_items": null,
            "align_self": null,
            "border": null,
            "bottom": null,
            "display": null,
            "flex": null,
            "flex_flow": null,
            "grid_area": null,
            "grid_auto_columns": null,
            "grid_auto_flow": null,
            "grid_auto_rows": null,
            "grid_column": null,
            "grid_gap": null,
            "grid_row": null,
            "grid_template_areas": null,
            "grid_template_columns": null,
            "grid_template_rows": null,
            "height": null,
            "justify_content": null,
            "justify_items": null,
            "left": null,
            "margin": null,
            "max_height": null,
            "max_width": null,
            "min_height": null,
            "min_width": null,
            "object_fit": null,
            "object_position": null,
            "order": null,
            "overflow": null,
            "overflow_x": null,
            "overflow_y": null,
            "padding": null,
            "right": null,
            "top": null,
            "visibility": null,
            "width": null
          }
        },
        "8ba6a7ff76f1445f99180adcc86c098b": {
          "model_module": "@jupyter-widgets/controls",
          "model_module_version": "1.5.0",
          "model_name": "HTMLModel",
          "state": {
            "_dom_classes": [],
            "_model_module": "@jupyter-widgets/controls",
            "_model_module_version": "1.5.0",
            "_model_name": "HTMLModel",
            "_view_count": null,
            "_view_module": "@jupyter-widgets/controls",
            "_view_module_version": "1.5.0",
            "_view_name": "HTMLView",
            "description": "",
            "description_tooltip": null,
            "layout": "IPY_MODEL_0b5af9f6957f403facb57bafaab27acf",
            "placeholder": "​",
            "style": "IPY_MODEL_e27a1c48690542c09afab39daccd3243",
            "value": "Testing: 100%"
          }
        },
        "946a29ab49ec493ba551f180b2520db0": {
          "model_module": "@jupyter-widgets/controls",
          "model_module_version": "1.5.0",
          "model_name": "DescriptionStyleModel",
          "state": {
            "_model_module": "@jupyter-widgets/controls",
            "_model_module_version": "1.5.0",
            "_model_name": "DescriptionStyleModel",
            "_view_count": null,
            "_view_module": "@jupyter-widgets/base",
            "_view_module_version": "1.2.0",
            "_view_name": "StyleView",
            "description_width": ""
          }
        },
        "9dd8ada10aab4061a75e52bb378a89be": {
          "model_module": "@jupyter-widgets/base",
          "model_module_version": "1.2.0",
          "model_name": "LayoutModel",
          "state": {
            "_model_module": "@jupyter-widgets/base",
            "_model_module_version": "1.2.0",
            "_model_name": "LayoutModel",
            "_view_count": null,
            "_view_module": "@jupyter-widgets/base",
            "_view_module_version": "1.2.0",
            "_view_name": "LayoutView",
            "align_content": null,
            "align_items": null,
            "align_self": null,
            "border": null,
            "bottom": null,
            "display": null,
            "flex": null,
            "flex_flow": null,
            "grid_area": null,
            "grid_auto_columns": null,
            "grid_auto_flow": null,
            "grid_auto_rows": null,
            "grid_column": null,
            "grid_gap": null,
            "grid_row": null,
            "grid_template_areas": null,
            "grid_template_columns": null,
            "grid_template_rows": null,
            "height": null,
            "justify_content": null,
            "justify_items": null,
            "left": null,
            "margin": null,
            "max_height": null,
            "max_width": null,
            "min_height": null,
            "min_width": null,
            "object_fit": null,
            "object_position": null,
            "order": null,
            "overflow": null,
            "overflow_x": null,
            "overflow_y": null,
            "padding": null,
            "right": null,
            "top": null,
            "visibility": null,
            "width": null
          }
        },
        "a573f8ed9ecb420d877facde56c5b7ce": {
          "model_module": "@jupyter-widgets/controls",
          "model_module_version": "1.5.0",
          "model_name": "DescriptionStyleModel",
          "state": {
            "_model_module": "@jupyter-widgets/controls",
            "_model_module_version": "1.5.0",
            "_model_name": "DescriptionStyleModel",
            "_view_count": null,
            "_view_module": "@jupyter-widgets/base",
            "_view_module_version": "1.2.0",
            "_view_name": "StyleView",
            "description_width": ""
          }
        },
        "a95d3756048e40c88792dfd7b102cb8e": {
          "model_module": "@jupyter-widgets/base",
          "model_module_version": "1.2.0",
          "model_name": "LayoutModel",
          "state": {
            "_model_module": "@jupyter-widgets/base",
            "_model_module_version": "1.2.0",
            "_model_name": "LayoutModel",
            "_view_count": null,
            "_view_module": "@jupyter-widgets/base",
            "_view_module_version": "1.2.0",
            "_view_name": "LayoutView",
            "align_content": null,
            "align_items": null,
            "align_self": null,
            "border": null,
            "bottom": null,
            "display": null,
            "flex": null,
            "flex_flow": null,
            "grid_area": null,
            "grid_auto_columns": null,
            "grid_auto_flow": null,
            "grid_auto_rows": null,
            "grid_column": null,
            "grid_gap": null,
            "grid_row": null,
            "grid_template_areas": null,
            "grid_template_columns": null,
            "grid_template_rows": null,
            "height": null,
            "justify_content": null,
            "justify_items": null,
            "left": null,
            "margin": null,
            "max_height": null,
            "max_width": null,
            "min_height": null,
            "min_width": null,
            "object_fit": null,
            "object_position": null,
            "order": null,
            "overflow": null,
            "overflow_x": null,
            "overflow_y": null,
            "padding": null,
            "right": null,
            "top": null,
            "visibility": null,
            "width": null
          }
        },
        "b3c2b2feaeed43bf91550abfe720e33e": {
          "model_module": "@jupyter-widgets/controls",
          "model_module_version": "1.5.0",
          "model_name": "HTMLModel",
          "state": {
            "_dom_classes": [],
            "_model_module": "@jupyter-widgets/controls",
            "_model_module_version": "1.5.0",
            "_model_name": "HTMLModel",
            "_view_count": null,
            "_view_module": "@jupyter-widgets/controls",
            "_view_module_version": "1.5.0",
            "_view_name": "HTMLView",
            "description": "",
            "description_tooltip": null,
            "layout": "IPY_MODEL_cb216006785140e78ab8a528c00b7b6e",
            "placeholder": "​",
            "style": "IPY_MODEL_28b4816692be4a1e8f511769bd4a889c",
            "value": " 129/413 [00:33&lt;01:10,  4.02it/s]"
          }
        },
        "b761617005fa417590efd41c653b2634": {
          "model_module": "@jupyter-widgets/base",
          "model_module_version": "1.2.0",
          "model_name": "LayoutModel",
          "state": {
            "_model_module": "@jupyter-widgets/base",
            "_model_module_version": "1.2.0",
            "_model_name": "LayoutModel",
            "_view_count": null,
            "_view_module": "@jupyter-widgets/base",
            "_view_module_version": "1.2.0",
            "_view_name": "LayoutView",
            "align_content": null,
            "align_items": null,
            "align_self": null,
            "border": null,
            "bottom": null,
            "display": null,
            "flex": null,
            "flex_flow": null,
            "grid_area": null,
            "grid_auto_columns": null,
            "grid_auto_flow": null,
            "grid_auto_rows": null,
            "grid_column": null,
            "grid_gap": null,
            "grid_row": null,
            "grid_template_areas": null,
            "grid_template_columns": null,
            "grid_template_rows": null,
            "height": null,
            "justify_content": null,
            "justify_items": null,
            "left": null,
            "margin": null,
            "max_height": null,
            "max_width": null,
            "min_height": null,
            "min_width": null,
            "object_fit": null,
            "object_position": null,
            "order": null,
            "overflow": null,
            "overflow_x": null,
            "overflow_y": null,
            "padding": null,
            "right": null,
            "top": null,
            "visibility": null,
            "width": null
          }
        },
        "c32ae1ed5730459abae3aef6bcb2fd64": {
          "model_module": "@jupyter-widgets/controls",
          "model_module_version": "1.5.0",
          "model_name": "HBoxModel",
          "state": {
            "_dom_classes": [],
            "_model_module": "@jupyter-widgets/controls",
            "_model_module_version": "1.5.0",
            "_model_name": "HBoxModel",
            "_view_count": null,
            "_view_module": "@jupyter-widgets/controls",
            "_view_module_version": "1.5.0",
            "_view_name": "HBoxView",
            "box_style": "",
            "children": [
              "IPY_MODEL_8ba6a7ff76f1445f99180adcc86c098b",
              "IPY_MODEL_65379321cdb74a64bbdc7eb5867c3e88",
              "IPY_MODEL_1d48a4cd507b4562b7295c7540a644f9"
            ],
            "layout": "IPY_MODEL_3a46b27585704addb76b55809d190553"
          }
        },
        "c36ff8eb034d4db9b80791e72f7b14a8": {
          "model_module": "@jupyter-widgets/controls",
          "model_module_version": "1.5.0",
          "model_name": "DescriptionStyleModel",
          "state": {
            "_model_module": "@jupyter-widgets/controls",
            "_model_module_version": "1.5.0",
            "_model_name": "DescriptionStyleModel",
            "_view_count": null,
            "_view_module": "@jupyter-widgets/base",
            "_view_module_version": "1.2.0",
            "_view_name": "StyleView",
            "description_width": ""
          }
        },
        "cac23a1be3cf4fe594484f03d3cf45d5": {
          "model_module": "@jupyter-widgets/controls",
          "model_module_version": "1.5.0",
          "model_name": "HBoxModel",
          "state": {
            "_dom_classes": [],
            "_model_module": "@jupyter-widgets/controls",
            "_model_module_version": "1.5.0",
            "_model_name": "HBoxModel",
            "_view_count": null,
            "_view_module": "@jupyter-widgets/controls",
            "_view_module_version": "1.5.0",
            "_view_name": "HBoxView",
            "box_style": "",
            "children": [
              "IPY_MODEL_13b2a13c66e6424cbd9dfdfa42b08162",
              "IPY_MODEL_d75143dd78e74f58bdbf14b8fbf36779",
              "IPY_MODEL_b3c2b2feaeed43bf91550abfe720e33e"
            ],
            "layout": "IPY_MODEL_9dd8ada10aab4061a75e52bb378a89be"
          }
        },
        "cb216006785140e78ab8a528c00b7b6e": {
          "model_module": "@jupyter-widgets/base",
          "model_module_version": "1.2.0",
          "model_name": "LayoutModel",
          "state": {
            "_model_module": "@jupyter-widgets/base",
            "_model_module_version": "1.2.0",
            "_model_name": "LayoutModel",
            "_view_count": null,
            "_view_module": "@jupyter-widgets/base",
            "_view_module_version": "1.2.0",
            "_view_name": "LayoutView",
            "align_content": null,
            "align_items": null,
            "align_self": null,
            "border": null,
            "bottom": null,
            "display": null,
            "flex": null,
            "flex_flow": null,
            "grid_area": null,
            "grid_auto_columns": null,
            "grid_auto_flow": null,
            "grid_auto_rows": null,
            "grid_column": null,
            "grid_gap": null,
            "grid_row": null,
            "grid_template_areas": null,
            "grid_template_columns": null,
            "grid_template_rows": null,
            "height": null,
            "justify_content": null,
            "justify_items": null,
            "left": null,
            "margin": null,
            "max_height": null,
            "max_width": null,
            "min_height": null,
            "min_width": null,
            "object_fit": null,
            "object_position": null,
            "order": null,
            "overflow": null,
            "overflow_x": null,
            "overflow_y": null,
            "padding": null,
            "right": null,
            "top": null,
            "visibility": null,
            "width": null
          }
        },
        "d547c59105294fea8512d6a00811dc8f": {
          "model_module": "@jupyter-widgets/controls",
          "model_module_version": "1.5.0",
          "model_name": "ProgressStyleModel",
          "state": {
            "_model_module": "@jupyter-widgets/controls",
            "_model_module_version": "1.5.0",
            "_model_name": "ProgressStyleModel",
            "_view_count": null,
            "_view_module": "@jupyter-widgets/base",
            "_view_module_version": "1.2.0",
            "_view_name": "StyleView",
            "bar_color": null,
            "description_width": ""
          }
        },
        "d572006cc1204b4e8e2733cf07f7d177": {
          "model_module": "@jupyter-widgets/base",
          "model_module_version": "1.2.0",
          "model_name": "LayoutModel",
          "state": {
            "_model_module": "@jupyter-widgets/base",
            "_model_module_version": "1.2.0",
            "_model_name": "LayoutModel",
            "_view_count": null,
            "_view_module": "@jupyter-widgets/base",
            "_view_module_version": "1.2.0",
            "_view_name": "LayoutView",
            "align_content": null,
            "align_items": null,
            "align_self": null,
            "border": null,
            "bottom": null,
            "display": null,
            "flex": null,
            "flex_flow": null,
            "grid_area": null,
            "grid_auto_columns": null,
            "grid_auto_flow": null,
            "grid_auto_rows": null,
            "grid_column": null,
            "grid_gap": null,
            "grid_row": null,
            "grid_template_areas": null,
            "grid_template_columns": null,
            "grid_template_rows": null,
            "height": null,
            "justify_content": null,
            "justify_items": null,
            "left": null,
            "margin": null,
            "max_height": null,
            "max_width": null,
            "min_height": null,
            "min_width": null,
            "object_fit": null,
            "object_position": null,
            "order": null,
            "overflow": null,
            "overflow_x": null,
            "overflow_y": null,
            "padding": null,
            "right": null,
            "top": null,
            "visibility": null,
            "width": null
          }
        },
        "d75143dd78e74f58bdbf14b8fbf36779": {
          "model_module": "@jupyter-widgets/controls",
          "model_module_version": "1.5.0",
          "model_name": "FloatProgressModel",
          "state": {
            "_dom_classes": [],
            "_model_module": "@jupyter-widgets/controls",
            "_model_module_version": "1.5.0",
            "_model_name": "FloatProgressModel",
            "_view_count": null,
            "_view_module": "@jupyter-widgets/controls",
            "_view_module_version": "1.5.0",
            "_view_name": "ProgressView",
            "bar_style": "",
            "description": "",
            "description_tooltip": null,
            "layout": "IPY_MODEL_3ccc0232c890412ea173b9df1b200667",
            "max": 413,
            "min": 0,
            "orientation": "horizontal",
            "style": "IPY_MODEL_d547c59105294fea8512d6a00811dc8f",
            "value": 129
          }
        },
        "da5900dafe69479caf82ca15e7947547": {
          "model_module": "@jupyter-widgets/controls",
          "model_module_version": "1.5.0",
          "model_name": "HBoxModel",
          "state": {
            "_dom_classes": [],
            "_model_module": "@jupyter-widgets/controls",
            "_model_module_version": "1.5.0",
            "_model_name": "HBoxModel",
            "_view_count": null,
            "_view_module": "@jupyter-widgets/controls",
            "_view_module_version": "1.5.0",
            "_view_name": "HBoxView",
            "box_style": "",
            "children": [
              "IPY_MODEL_e7f915efa2c246839b6f4fc6842e024a",
              "IPY_MODEL_5f6034f2e50749fb85c92c8664120535",
              "IPY_MODEL_2d1b2808d440487d8e7aa2e572a94e80"
            ],
            "layout": "IPY_MODEL_0326a214a023420c8965660f72d1fd47"
          }
        },
        "dc024cbd6d5645479e3d8e35a752f277": {
          "model_module": "@jupyter-widgets/base",
          "model_module_version": "1.2.0",
          "model_name": "LayoutModel",
          "state": {
            "_model_module": "@jupyter-widgets/base",
            "_model_module_version": "1.2.0",
            "_model_name": "LayoutModel",
            "_view_count": null,
            "_view_module": "@jupyter-widgets/base",
            "_view_module_version": "1.2.0",
            "_view_name": "LayoutView",
            "align_content": null,
            "align_items": null,
            "align_self": null,
            "border": null,
            "bottom": null,
            "display": null,
            "flex": null,
            "flex_flow": null,
            "grid_area": null,
            "grid_auto_columns": null,
            "grid_auto_flow": null,
            "grid_auto_rows": null,
            "grid_column": null,
            "grid_gap": null,
            "grid_row": null,
            "grid_template_areas": null,
            "grid_template_columns": null,
            "grid_template_rows": null,
            "height": null,
            "justify_content": null,
            "justify_items": null,
            "left": null,
            "margin": null,
            "max_height": null,
            "max_width": null,
            "min_height": null,
            "min_width": null,
            "object_fit": null,
            "object_position": null,
            "order": null,
            "overflow": null,
            "overflow_x": null,
            "overflow_y": null,
            "padding": null,
            "right": null,
            "top": null,
            "visibility": null,
            "width": null
          }
        },
        "e27a1c48690542c09afab39daccd3243": {
          "model_module": "@jupyter-widgets/controls",
          "model_module_version": "1.5.0",
          "model_name": "DescriptionStyleModel",
          "state": {
            "_model_module": "@jupyter-widgets/controls",
            "_model_module_version": "1.5.0",
            "_model_name": "DescriptionStyleModel",
            "_view_count": null,
            "_view_module": "@jupyter-widgets/base",
            "_view_module_version": "1.2.0",
            "_view_name": "StyleView",
            "description_width": ""
          }
        },
        "e7f915efa2c246839b6f4fc6842e024a": {
          "model_module": "@jupyter-widgets/controls",
          "model_module_version": "1.5.0",
          "model_name": "HTMLModel",
          "state": {
            "_dom_classes": [],
            "_model_module": "@jupyter-widgets/controls",
            "_model_module_version": "1.5.0",
            "_model_name": "HTMLModel",
            "_view_count": null,
            "_view_module": "@jupyter-widgets/controls",
            "_view_module_version": "1.5.0",
            "_view_name": "HTMLView",
            "description": "",
            "description_tooltip": null,
            "layout": "IPY_MODEL_3e909a7bdbed47c782c69dcbd3605862",
            "placeholder": "​",
            "style": "IPY_MODEL_a573f8ed9ecb420d877facde56c5b7ce",
            "value": "100%"
          }
        }
      }
    }
  },
  "nbformat": 4,
  "nbformat_minor": 0
}
